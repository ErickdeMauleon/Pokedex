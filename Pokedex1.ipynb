{
 "cells": [
  {
   "cell_type": "markdown",
   "metadata": {},
   "source": [
    "# POKEDEX"
   ]
  },
  {
   "cell_type": "markdown",
   "metadata": {},
   "source": [
    "## INTEGRANTES:\n",
    "\n",
    "Mariana Panszi\n",
    "\n",
    "Erick Santillán \n",
    "\n",
    "Daniel Cabrera\n",
    "\n",
    "Oscar Páez "
   ]
  },
  {
   "cell_type": "markdown",
   "metadata": {},
   "source": [
    "## PROBLEMA\n",
    "\n",
    "Descripción: en el mundo Pokemón es necesario identificar frente a qué Pokemón te encuentras. Esto con el fin de poder tomar las mejores decisiones de cómo enfrentarlo o ayudarlo; sabiendo de qué tipo de Pokemón se trata, podemos tomar mejores decisiones basándonos en lo que ya se sabe de ese tipo de Pokemón. Creemos que para resolver este problema lo más óptimo es crear un \"Pokedex\" capaz de diferenciar entre tipos de Pokemón a través de una imágen.\n",
    "Este problema es transferible a la vida real cuando exploradores o biólogos se enfrentan a la difícil tarea de identificar frente a qué animal se encuntran, y por lo tanto creemos que este problema puede trascender hacia la biología y por lo tanto nos parece útil presentar una solución. \n",
    "\n",
    "Objetivo: crear un \"Pokedex\" capaz de identificar el tipo de Pokemón con el que estamos tratando a partir de una imagen del Pokemón como entrada. \n",
    "\n",
    "Problemas de decisión: el Pokedex nos permite identificar frente a qué Pokemón estamos, y por lo tanto permite al usuario tomar una decisión más informada de cómo proceder frente a dicho Pokemón. Usar el Pokedex permite crear una mejor estrategia y una ventaja para el usuario. \n",
    "\n",
    "Imágenes en el siguiente link: [Pokemon](https://www.dropbox.com/sh/mod0kq6kdylbai4/AAB-f8ioHk8EHqtjnCEtnwZGa?dl=0)\n",
    "\n",
    "Si vemos el problema desde la teoría de decisiones lo podemos identificar de la siguiente manera:\n",
    "\n",
    "- Tomador de decisiones: Entrenador pokemon inexperto en los diferentes tipos de Pokemón que existen. Busca identificar por medio de una imagen a cualquier Pokemón.\n",
    "\n",
    "- Espacio de opciones: la posibilidad de que la imagen que ingresa al Pokedex sea de alguno de los Pokemones identificados en nuestra base de imágenes. \n",
    "\n",
    "- Espacio de eventos: que sea o no sea el Pokemón que se quiere identificar. \n",
    "\n",
    "- Espacio de consecuencias: la acción que realice el entrenador pokemón una vez identificado el tipo de Pokemón al cual se enfrenta. "
   ]
  },
  {
   "cell_type": "markdown",
   "metadata": {},
   "source": [
    "1.- Cargar las librerías."
   ]
  },
  {
   "cell_type": "code",
   "execution_count": 1,
   "metadata": {},
   "outputs": [],
   "source": [
    "from os import listdir\n",
    "from os.path import isfile, join\n",
    "import matplotlib.pyplot as plt\n",
    "import matplotlib.image as mpimg\n",
    "import pandas as pd\n",
    "import numpy as np\n",
    "import PIL\n",
    "import random\n",
    "from PIL import Image\n",
    "from resizeimage import resizeimage\n",
    "from scipy.misc import imread\n",
    "from sklearn.ensemble import RandomForestClassifier\n",
    "from sklearn.neural_network import MLPClassifier\n",
    "from sklearn.model_selection import GridSearchCV\n",
    "from sklearn.metrics import confusion_matrix, f1_score"
   ]
  },
  {
   "cell_type": "markdown",
   "metadata": {},
   "source": [
    "2.- Crear variables globales. En \"mypath\" están guardados los archivos y en \"resized\" se va a guardar una copia con el tamaño especificado en la variable \"pixels\"."
   ]
  },
  {
   "cell_type": "code",
   "execution_count": 2,
   "metadata": {},
   "outputs": [],
   "source": [
    "mypath = \"C:\\\\Users\\\\Erick Santillan\\\\Documents\\\\Python Scripts\\\\Pokemones\\\\n\"\n",
    "resized = \"C:\\\\Users\\\\Erick Santillan\\\\Documents\\\\Python Scripts\\\\Pokemones\\\\Resized\"\n",
    "pixels = 100"
   ]
  },
  {
   "cell_type": "markdown",
   "metadata": {},
   "source": [
    "## DATOS\n",
    "\n",
    "Descripción: Se usó una base de datos con 180 imágenes. Para el modelo se usarán nueve tipos diferentes de Pokemón, y a cada tipo le corresponden 20 imágenes. Las imágenes son de distintos tamaños. Aunque es una base de datos relativamente pequeña, nos da la posibilidad de generar un modelo útil para estos nueve tipos de Pokemón y posteriormente se puede aumentar con más imágenes de cada tipo de Pokemón, o con más tipos de Pokemón.\n",
    "\n",
    "Para poder trabajar de manera más efectiva con los datos, los nombres de los Pokemón se cambiaron por números. La correspondencia es como sigue:\n",
    "\n",
    "- 0: Pikachu\n",
    "- 1: Bulbasaur\n",
    "- 2: Charmander\n",
    "- 3: Jigglypuff\n",
    "- 4: Squirtle\n",
    "- 5: Cyndaquil\n",
    "- 6: Psyduck\n",
    "- 7: Togepi \n",
    "- 8: Eevee\n",
    "\n",
    "Análisis exploratorio: análizamos las imágenes de manera individual, asegurándonos que cada carpeta contenedora sólo tuviera un tipo de pokemón, para no alimentar nuestro modelo con datos incorrectos. También nos aseguramos de que el modelo reconociera un Pokemón independientemente de su posición. \n",
    "\n",
    "Como se muestra unos pasos más adelante, voltéamos las imágenes para entrenar al modelo desde los distintos ángulos posibles de un Pokemón. Esto también duplica la muestra de imágenes que tenemos y nos da un mayor número de imágenes de entrenamiento. \n",
    "\n",
    "Para que las imágenes fueran comparables, fue necesario modificarles el tamaño, el cual puede ser modificado en la variable \"pixels\". Para el caso estándar se utilizan imágenes con un tamaño único de 100x100 pixeles. \n",
    "Al no ser un problema de texto o numérico, no fue necesario hacer imputaciones a los datos."
   ]
  },
  {
   "cell_type": "markdown",
   "metadata": {},
   "source": [
    "3.- El siguiente código guarda los arcvhivos en la carpeta resized."
   ]
  },
  {
   "cell_type": "code",
   "execution_count": 3,
   "metadata": {},
   "outputs": [],
   "source": [
    "raza_train = []\n",
    "for j in range(9):\n",
    "    mypath2 = mypath+str(j)\n",
    "    onlyfiles = [f for f in listdir(mypath2) if isfile(join(mypath2, f))]\n",
    "    n = len(onlyfiles)\n",
    "    for i in range(n):\n",
    "        raza_train.append(j)\n",
    "        with open(mypath2+\"\\\\\"+onlyfiles[i], 'r+b') as f:\n",
    "            with Image.open(f) as image:\n",
    "                cover = resizeimage.resize_cover(image, [pixels, pixels])\n",
    "                cover.save(resized+\"\\\\\"+\"raza\"+str(j)+\"chango\"+str(i)+\".jpg\", image.format)"
   ]
  },
  {
   "cell_type": "markdown",
   "metadata": {},
   "source": [
    "4.- La siguiente instrucción guarda los nombres de los archivos de una carpeta en una lista."
   ]
  },
  {
   "cell_type": "code",
   "execution_count": 4,
   "metadata": {},
   "outputs": [],
   "source": [
    "onlyfiles = [f for f in listdir(resized) if isfile(join(resized, f))] "
   ]
  },
  {
   "cell_type": "markdown",
   "metadata": {},
   "source": [
    "5.- Leer las imágenes de la carpeta \"resized\" y cada pixel será una variable que tendrá el valor del color en su entrada. Están en formato \"L\", el cual es un formato en tonalidades amarillas."
   ]
  },
  {
   "cell_type": "code",
   "execution_count": 5,
   "metadata": {},
   "outputs": [],
   "source": [
    "features = []\n",
    "\n",
    "for chango in onlyfiles:\n",
    "    im = np.array(PIL.Image.open(resized+\"\\\\\"+chango).convert(\"L\"))\n",
    "    X = []\n",
    "    for row in im:\n",
    "        X = X + list(row)\n",
    "    features.append(list(X))"
   ]
  },
  {
   "cell_type": "markdown",
   "metadata": {},
   "source": [
    "6.- Se guarda la matriz \"features\" en un pandas DataFrame y se le añade la raza de cada pokemon."
   ]
  },
  {
   "cell_type": "code",
   "execution_count": 6,
   "metadata": {},
   "outputs": [],
   "source": [
    "column_names = [\"P\"+str(i) for i in range(int(pixels**2))]\n",
    "changos_train = pd.DataFrame(features,columns=[\"P\"+str(i) for i in range(int(pixels**2))])\n",
    "\n",
    "changos_train['raza'] = raza_train"
   ]
  },
  {
   "cell_type": "markdown",
   "metadata": {},
   "source": [
    "7.- Se voltean las imágenes para que el modelo se entrene con los pokemon viendo hacia ambos lados. Para que no se aprenda que \"Charmander siempre tiene la cola a la derecha\", esto se hará directo al DataFrame, sólo se van a \"renombrar\" las variables, esto es, el pixel 99 ahora va a ser el pixel 1."
   ]
  },
  {
   "cell_type": "code",
   "execution_count": 7,
   "metadata": {},
   "outputs": [],
   "source": [
    "renamed = {}\n",
    "for i in range(int(pixels**2)):\n",
    "    renamed['P'+str(i)] = 'P' + str((i//pixels)*pixels + pixels - i%pixels - 1)  \n",
    "\n",
    "changos_train = changos_train.append(changos_train.rename(index=str, columns=renamed)[column_names + ['raza']]).reset_index().drop(columns='index')"
   ]
  },
  {
   "cell_type": "markdown",
   "metadata": {},
   "source": [
    "8.- Verificar que en verdad se voltearon."
   ]
  },
  {
   "cell_type": "code",
   "execution_count": 8,
   "metadata": {},
   "outputs": [
    {
     "data": {
      "image/png": "[encoded data removed]",
      "text/plain": [
       "<Figure size 432x288 with 1 Axes>"
      ]
     },
     "metadata": {},
     "output_type": "display_data"
    },
    {
     "data": {
      "image/png": "[encoded data removed]",
      "text/plain": [
       "<Figure size 432x288 with 1 Axes>"
      ]
     },
     "metadata": {},
     "output_type": "display_data"
    }
   ],
   "source": [
    "for row in changos_train[column_names].loc[[4,184]].values:\n",
    "    plt.imshow(row.reshape(pixels, pixels))\n",
    "    plt.show()"
   ]
  },
  {
   "cell_type": "markdown",
   "metadata": {},
   "source": [
    "## MODELO \n",
    "\n",
    "Usamos dos modelos para ver cuál es mejor para nuestro Pokedex. El primer modelo fue supervisado con bosques aleatorios, usando cross validation para encontrar los mejores parámetros. Para medir la eficacia de este modelo se utilizó f1-score y una matriz de confusión. \n",
    "\n",
    "El segundo modelo se hizo no supervisado con PCA. Muestra una tabla con diferente número de componentes y arroja la varianza explicada y el f1-score de cada número de componentes. \n",
    "\n",
    "En ambos casos el muestreo es el mismo. Este se hizo a mano con 20% de los datos para probar el modelo, y 80% de los datos para entrenar el modelo. Esto se hizo así para asegurarse que hubiera la misma cantidad de cada tipo de Pokemón en cada conjunto. \n",
    "\n",
    "Creemos que estos modelos son los más apropiados por el número de datos con los que contamos. También hicimos un modelo supervisado y uno no supervisado para comparar los resultados y así poder elegir el mejor.  "
   ]
  },
  {
   "cell_type": "markdown",
   "metadata": {},
   "source": [
    "9.- Se separa en entrenamiento y prueba, asegurándonos que las clases estén bien balanceadas. El muestreo se hace a mano."
   ]
  },
  {
   "cell_type": "code",
   "execution_count": 9,
   "metadata": {},
   "outputs": [],
   "source": [
    "changos_train['rand'] = [random.random() for i in range(changos_train.shape[0])] \n",
    "changos_train[\"rank\"] = changos_train.groupby(\"raza\")[\"rand\"].rank(\"dense\", ascending=False)\n",
    "\n",
    "changos_test = changos_train.query(\"rank > 32\").reset_index().drop(columns=['rand','index','rank'])\n",
    "changos_train = changos_train.query(\"rank <= 32\").reset_index().drop(columns=['rand','index','rank'])"
   ]
  },
  {
   "cell_type": "markdown",
   "metadata": {},
   "source": [
    "10.- Entrenamos el modelo 1 con bosques aleatorios y cross validation con leave one out al ser tan poquitos datos."
   ]
  },
  {
   "cell_type": "code",
   "execution_count": 10,
   "metadata": {},
   "outputs": [
    {
     "name": "stdout",
     "output_type": "stream",
     "text": [
      "Fitting 32 folds for each of 16 candidates, totalling 512 fits\n"
     ]
    },
    {
     "name": "stderr",
     "output_type": "stream",
     "text": [
      "[Parallel(n_jobs=-1)]: Done   5 tasks      | elapsed:    7.4s\n",
      "[Parallel(n_jobs=-1)]: Done  10 tasks      | elapsed:   10.3s\n",
      "[Parallel(n_jobs=-1)]: Done  17 tasks      | elapsed:   15.1s\n",
      "[Parallel(n_jobs=-1)]: Done  24 tasks      | elapsed:   19.2s\n",
      "[Parallel(n_jobs=-1)]: Done  33 tasks      | elapsed:   23.5s\n",
      "[Parallel(n_jobs=-1)]: Done  42 tasks      | elapsed:   27.8s\n",
      "[Parallel(n_jobs=-1)]: Done  53 tasks      | elapsed:   33.8s\n",
      "[Parallel(n_jobs=-1)]: Done  64 tasks      | elapsed:   39.9s\n",
      "[Parallel(n_jobs=-1)]: Done  77 tasks      | elapsed:   46.5s\n",
      "[Parallel(n_jobs=-1)]: Done  90 tasks      | elapsed:   53.0s\n",
      "[Parallel(n_jobs=-1)]: Done 105 tasks      | elapsed:  1.0min\n",
      "[Parallel(n_jobs=-1)]: Done 120 tasks      | elapsed:  1.2min\n",
      "[Parallel(n_jobs=-1)]: Done 137 tasks      | elapsed:  1.3min\n",
      "[Parallel(n_jobs=-1)]: Done 154 tasks      | elapsed:  1.4min\n",
      "[Parallel(n_jobs=-1)]: Done 173 tasks      | elapsed:  1.6min\n",
      "[Parallel(n_jobs=-1)]: Done 192 tasks      | elapsed:  1.8min\n",
      "[Parallel(n_jobs=-1)]: Done 213 tasks      | elapsed:  2.0min\n",
      "[Parallel(n_jobs=-1)]: Done 234 tasks      | elapsed:  2.1min\n",
      "[Parallel(n_jobs=-1)]: Done 257 tasks      | elapsed:  2.4min\n",
      "[Parallel(n_jobs=-1)]: Done 280 tasks      | elapsed:  2.5min\n",
      "[Parallel(n_jobs=-1)]: Done 305 tasks      | elapsed:  2.8min\n",
      "[Parallel(n_jobs=-1)]: Done 330 tasks      | elapsed:  3.0min\n",
      "[Parallel(n_jobs=-1)]: Done 357 tasks      | elapsed:  3.3min\n",
      "[Parallel(n_jobs=-1)]: Done 384 tasks      | elapsed:  3.5min\n",
      "[Parallel(n_jobs=-1)]: Done 413 tasks      | elapsed:  3.8min\n",
      "[Parallel(n_jobs=-1)]: Done 442 tasks      | elapsed:  4.1min\n",
      "[Parallel(n_jobs=-1)]: Done 473 tasks      | elapsed:  4.4min\n",
      "[Parallel(n_jobs=-1)]: Done 504 tasks      | elapsed:  4.7min\n",
      "[Parallel(n_jobs=-1)]: Done 512 out of 512 | elapsed:  4.8min finished\n"
     ]
    },
    {
     "name": "stdout",
     "output_type": "stream",
     "text": [
      "f1_score::::\n",
      "0.8194444444444444\n"
     ]
    }
   ],
   "source": [
    "grid_parametros = {'n_estimators': [175, 180, 185, 190],\n",
    "                   'min_samples_split': [4,5,6,7]}\n",
    "rf_cv = GridSearchCV(RandomForestClassifier(), grid_parametros,\n",
    "                    verbose=10, n_jobs=-1, scoring='f1_micro', cv=32)\n",
    "\n",
    "rf_cv.fit(changos_train.drop(columns=['raza']), changos_train.raza)\n",
    "print(\"f1_score::::\")\n",
    "print(f1_score(changos_test.raza, rf_cv.predict(changos_test.drop(columns=['raza'])),average='micro'))"
   ]
  },
  {
   "cell_type": "code",
   "execution_count": 61,
   "metadata": {},
   "outputs": [
    {
     "data": {
      "text/plain": [
       "{'min_samples_split': 4, 'n_estimators': 190}"
      ]
     },
     "execution_count": 61,
     "metadata": {},
     "output_type": "execute_result"
    }
   ],
   "source": [
    "rf_cv.best_params_"
   ]
  },
  {
   "cell_type": "code",
   "execution_count": 63,
   "metadata": {
    "scrolled": true
   },
   "outputs": [
    {
     "data": {
      "text/plain": [
       "array([[8, 0, 0, 0, 0, 0, 0, 0, 0],\n",
       "       [0, 7, 0, 0, 0, 1, 0, 0, 0],\n",
       "       [0, 0, 6, 0, 1, 0, 0, 0, 1],\n",
       "       [1, 0, 0, 6, 0, 0, 1, 0, 0],\n",
       "       [0, 1, 0, 0, 7, 0, 0, 0, 0],\n",
       "       [0, 0, 1, 0, 1, 5, 1, 0, 0],\n",
       "       [1, 0, 0, 0, 0, 0, 7, 0, 0],\n",
       "       [0, 0, 0, 0, 0, 0, 0, 8, 0],\n",
       "       [0, 0, 0, 0, 0, 1, 0, 0, 7]], dtype=int64)"
      ]
     },
     "execution_count": 63,
     "metadata": {},
     "output_type": "execute_result"
    }
   ],
   "source": [
    "confusion_matrix(changos_test.raza, rf_cv.predict(changos_test.drop(columns=['raza'])))"
   ]
  },
  {
   "cell_type": "markdown",
   "metadata": {},
   "source": [
    "11.- Entrenamos el modelo 2 con PCA."
   ]
  },
  {
   "cell_type": "code",
   "execution_count": 11,
   "metadata": {},
   "outputs": [],
   "source": [
    "from sklearn.decomposition import PCA"
   ]
  },
  {
   "cell_type": "code",
   "execution_count": 18,
   "metadata": {},
   "outputs": [
    {
     "data": {
      "text/html": [
       "<div>\n",
       "<style scoped>\n",
       "    .dataframe tbody tr th:only-of-type {\n",
       "        vertical-align: middle;\n",
       "    }\n",
       "\n",
       "    .dataframe tbody tr th {\n",
       "        vertical-align: top;\n",
       "    }\n",
       "\n",
       "    .dataframe thead th {\n",
       "        text-align: right;\n",
       "    }\n",
       "</style>\n",
       "<table border=\"1\" class=\"dataframe\">\n",
       "  <thead>\n",
       "    <tr style=\"text-align: right;\">\n",
       "      <th></th>\n",
       "      <th>Componentes</th>\n",
       "      <th>Var explicada</th>\n",
       "      <th>F1 score</th>\n",
       "    </tr>\n",
       "  </thead>\n",
       "  <tbody>\n",
       "    <tr>\n",
       "      <th>0</th>\n",
       "      <td>2</td>\n",
       "      <td>0.143676</td>\n",
       "      <td>0.791667</td>\n",
       "    </tr>\n",
       "    <tr>\n",
       "      <th>1</th>\n",
       "      <td>3</td>\n",
       "      <td>0.185991</td>\n",
       "      <td>0.763889</td>\n",
       "    </tr>\n",
       "    <tr>\n",
       "      <th>2</th>\n",
       "      <td>4</td>\n",
       "      <td>0.225769</td>\n",
       "      <td>0.763889</td>\n",
       "    </tr>\n",
       "    <tr>\n",
       "      <th>3</th>\n",
       "      <td>5</td>\n",
       "      <td>0.258734</td>\n",
       "      <td>0.791667</td>\n",
       "    </tr>\n",
       "    <tr>\n",
       "      <th>4</th>\n",
       "      <td>6</td>\n",
       "      <td>0.283524</td>\n",
       "      <td>0.805556</td>\n",
       "    </tr>\n",
       "    <tr>\n",
       "      <th>5</th>\n",
       "      <td>7</td>\n",
       "      <td>0.306226</td>\n",
       "      <td>0.763889</td>\n",
       "    </tr>\n",
       "    <tr>\n",
       "      <th>6</th>\n",
       "      <td>8</td>\n",
       "      <td>0.326134</td>\n",
       "      <td>0.791667</td>\n",
       "    </tr>\n",
       "    <tr>\n",
       "      <th>7</th>\n",
       "      <td>9</td>\n",
       "      <td>0.342207</td>\n",
       "      <td>0.750000</td>\n",
       "    </tr>\n",
       "    <tr>\n",
       "      <th>8</th>\n",
       "      <td>10</td>\n",
       "      <td>0.357142</td>\n",
       "      <td>0.763889</td>\n",
       "    </tr>\n",
       "    <tr>\n",
       "      <th>9</th>\n",
       "      <td>11</td>\n",
       "      <td>0.371576</td>\n",
       "      <td>0.763889</td>\n",
       "    </tr>\n",
       "    <tr>\n",
       "      <th>10</th>\n",
       "      <td>12</td>\n",
       "      <td>0.385971</td>\n",
       "      <td>0.791667</td>\n",
       "    </tr>\n",
       "    <tr>\n",
       "      <th>11</th>\n",
       "      <td>13</td>\n",
       "      <td>0.399270</td>\n",
       "      <td>0.736111</td>\n",
       "    </tr>\n",
       "    <tr>\n",
       "      <th>12</th>\n",
       "      <td>14</td>\n",
       "      <td>0.411983</td>\n",
       "      <td>0.791667</td>\n",
       "    </tr>\n",
       "    <tr>\n",
       "      <th>13</th>\n",
       "      <td>15</td>\n",
       "      <td>0.424547</td>\n",
       "      <td>0.805556</td>\n",
       "    </tr>\n",
       "  </tbody>\n",
       "</table>\n",
       "</div>"
      ],
      "text/plain": [
       "    Componentes  Var explicada  F1 score\n",
       "0             2       0.143676  0.791667\n",
       "1             3       0.185991  0.763889\n",
       "2             4       0.225769  0.763889\n",
       "3             5       0.258734  0.791667\n",
       "4             6       0.283524  0.805556\n",
       "5             7       0.306226  0.763889\n",
       "6             8       0.326134  0.791667\n",
       "7             9       0.342207  0.750000\n",
       "8            10       0.357142  0.763889\n",
       "9            11       0.371576  0.763889\n",
       "10           12       0.385971  0.791667\n",
       "11           13       0.399270  0.736111\n",
       "12           14       0.411983  0.791667\n",
       "13           15       0.424547  0.805556"
      ]
     },
     "execution_count": 18,
     "metadata": {},
     "output_type": "execute_result"
    }
   ],
   "source": [
    "grid_parametros = {'n_estimators': [175, 180, 185, 190],\n",
    "                   'min_samples_split': [4]}\n",
    "componentes = []\n",
    "varianza = []\n",
    "f1 = []\n",
    "for i in range(2,16):\n",
    "    pca = PCA(n_components=i)\n",
    "    pca.fit(changos_train.drop(columns='raza'))\n",
    "    train_pca = pd.DataFrame(pca.transform(changos_train.drop(columns='raza')), columns=['P'+str(k) for k in range(i)])\n",
    "    rf_cv = GridSearchCV(RandomForestClassifier(), grid_parametros, n_jobs=-1, scoring='f1_micro', cv=32)\n",
    "    test_pca = pd.DataFrame(pca.transform(changos_test.drop(columns='raza')), columns=['P'+str(k) for k in range(i)])\n",
    "    rf_cv.fit(changos_train.drop(columns=['raza']), changos_train.raza)\n",
    "    f1.append(f1_score(changos_test.raza, rf_cv.predict(changos_test.drop(columns=['raza'])),average='micro'))\n",
    "    componentes.append(i)\n",
    "    varianza.append(sum(pca.explained_variance_ratio_))\n",
    "pd.DataFrame({'Componentes': componentes, 'Var explicada': varianza, 'F1 score': f1})"
   ]
  },
  {
   "cell_type": "markdown",
   "metadata": {},
   "source": [
    "## DECISIÓN\n",
    "\n",
    "Resultados: ambos modelos arrojan f1-scores relativamente altos, por lo que consideramos que ambos modelos son válidos para usar dentro del Pokedex. En este caso, el número de componentes óptimo será de 6. En ambos modelos, el f1-score oscila alrededor del 80%. Este score se podría mejorar aumentando la base de datos que tenemos de cada tipo de Pokemón. \n",
    "Lo que se puede observar por la matriz de confusión es que el pokemón tipo 6 es el que más propenso está a ser confundido con tros tipos de Pokemón. \n",
    "\n",
    "Conclusiones: Creemos que nuestro Pokedex es lo suficientemente exacto para que alguien en busca de convertirse en maestro pokemón lo use en sus aventuras diarias. Para mejorar el modelo sugerimos aumentar el número de pixeles en las imágenes (esto no nos fue posible porque algunas imágenes eran menores a 200 pixeles en su tamaño original) y aumentar el número de imágenes para entrenar el modelo. También creemos que con más imágenes el modelo 2 (PCA) puede funcionar mejor que el modelo 1. \n",
    "Finalmente creemos que se ha cumplido con el objetivo propuesto y que un tomador de decisiones se puede beneficiar con la información que estos modelos proporcionan. Las aplicaciones al mundo real de este tipo de modelos creemos que son bastante amplias, pero que tendrían especial utilidad en el campo de la biología, para identificar distintos tipos de animales y tener mejores herramientas para estudiarlos y ayudar a la conservación de distintas especies. "
   ]
  }
 ],
 "metadata": {
  "kernelspec": {
   "display_name": "Python 3",
   "language": "python",
   "name": "python3"
  },
  "language_info": {
   "codemirror_mode": {
    "name": "ipython",
    "version": 3
   },
   "file_extension": ".py",
   "mimetype": "text/x-python",
   "name": "python",
   "nbconvert_exporter": "python",
   "pygments_lexer": "ipython3",
   "version": "3.6.5"
  }
 },
 "nbformat": 4,
 "nbformat_minor": 2
}
